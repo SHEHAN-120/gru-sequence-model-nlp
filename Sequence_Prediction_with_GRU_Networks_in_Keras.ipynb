{
  "nbformat": 4,
  "nbformat_minor": 0,
  "metadata": {
    "colab": {
      "provenance": [],
      "authorship_tag": "ABX9TyPd4Oqjk8vrS7X0cpSygYzH",
      "include_colab_link": true
    },
    "kernelspec": {
      "name": "python3",
      "display_name": "Python 3"
    },
    "language_info": {
      "name": "python"
    }
  },
  "cells": [
    {
      "cell_type": "markdown",
      "metadata": {
        "id": "view-in-github",
        "colab_type": "text"
      },
      "source": [
        "<a href=\"https://colab.research.google.com/github/SHEHAN-120/gru-sequence-model-nlp/blob/main/Sequence_Prediction_with_GRU_Networks_in_Keras.ipynb\" target=\"_parent\"><img src=\"https://colab.research.google.com/assets/colab-badge.svg\" alt=\"Open In Colab\"/></a>"
      ]
    },
    {
      "cell_type": "markdown",
      "source": [
        "## NLP GRU\n"
      ],
      "metadata": {
        "id": "OPaAhpDfJTA-"
      }
    },
    {
      "cell_type": "code",
      "execution_count": 1,
      "metadata": {
        "id": "TREVGdHmTMiX"
      },
      "outputs": [],
      "source": [
        "text=\"\"\"Technology is changing the way we live and work.\n",
        "Every day, new devices and applications are introduced to make our lives easier.\n",
        "People use smartphones to communicate, search for information, and complete daily tasks.\n",
        "With the help of artificial intelligence, machines can now learn and make decisions.\n",
        "This transformation is creating new opportunities and challenges for society.\n",
        "\"\"\""
      ]
    },
    {
      "cell_type": "code",
      "source": [
        "import tensorflow as tf\n",
        "import numpy as np\n",
        "\n",
        "from tensorflow.keras.preprocessing.text import Tokenizer\n",
        "from tensorflow.keras.preprocessing.sequence import pad_sequences\n",
        "from tensorflow.keras.utils import to_categorical\n",
        "from tensorflow.keras.models import Sequential\n",
        "from tensorflow.keras.layers import Embedding,GRU,Dense\n"
      ],
      "metadata": {
        "id": "nGCD7iVhUWZi"
      },
      "execution_count": 2,
      "outputs": []
    },
    {
      "cell_type": "code",
      "source": [
        "tokenizer=Tokenizer()"
      ],
      "metadata": {
        "id": "Qabz5wEwUiG7"
      },
      "execution_count": 3,
      "outputs": []
    },
    {
      "cell_type": "code",
      "source": [
        "tokenizer.fit_on_texts([text])"
      ],
      "metadata": {
        "id": "pcQumn2YUnfw"
      },
      "execution_count": 4,
      "outputs": []
    },
    {
      "cell_type": "code",
      "source": [
        "len(tokenizer.word_index)"
      ],
      "metadata": {
        "colab": {
          "base_uri": "https://localhost:8080/"
        },
        "id": "gCgXV5jlUtds",
        "outputId": "0f93323a-e3c8-4f45-ff14-64208393a56c"
      },
      "execution_count": 5,
      "outputs": [
        {
          "output_type": "execute_result",
          "data": {
            "text/plain": [
              "47"
            ]
          },
          "metadata": {},
          "execution_count": 5
        }
      ]
    },
    {
      "cell_type": "code",
      "source": [
        "for sentence in text.split('\\n'):\n",
        "  print(sentence)"
      ],
      "metadata": {
        "colab": {
          "base_uri": "https://localhost:8080/"
        },
        "id": "q6uNxu5ZWOU-",
        "outputId": "7045e2ab-492f-48c7-ed8e-8e8913046252"
      },
      "execution_count": 6,
      "outputs": [
        {
          "output_type": "stream",
          "name": "stdout",
          "text": [
            "Technology is changing the way we live and work. \n",
            "Every day, new devices and applications are introduced to make our lives easier. \n",
            "People use smartphones to communicate, search for information, and complete daily tasks. \n",
            "With the help of artificial intelligence, machines can now learn and make decisions. \n",
            "This transformation is creating new opportunities and challenges for society.\n",
            "\n"
          ]
        }
      ]
    },
    {
      "cell_type": "code",
      "source": [
        "for sentence in text.split('\\n'):\n",
        "  print(tokenizer.texts_to_sequences([sentence])[0])"
      ],
      "metadata": {
        "colab": {
          "base_uri": "https://localhost:8080/"
        },
        "id": "5bpr9Z2_Uzod",
        "outputId": "caacbf17-fe21-4ad1-de3e-539ce76aa68e"
      },
      "execution_count": 7,
      "outputs": [
        {
          "output_type": "stream",
          "name": "stdout",
          "text": [
            "[8, 2, 9, 3, 10, 11, 12, 1, 13]\n",
            "[14, 15, 4, 16, 1, 17, 18, 19, 5, 6, 20, 21, 22]\n",
            "[23, 24, 25, 5, 26, 27, 7, 28, 1, 29, 30, 31]\n",
            "[32, 3, 33, 34, 35, 36, 37, 38, 39, 40, 1, 6, 41]\n",
            "[42, 43, 2, 44, 4, 45, 1, 46, 7, 47]\n",
            "[]\n"
          ]
        }
      ]
    },
    {
      "cell_type": "code",
      "source": [
        "input_sequence=[]\n",
        "for sentence in text.split('\\n'):\n",
        "  tokenized_sentence=tokenizer.texts_to_sequences([sentence])[0]\n",
        "\n",
        "  for i in range(1,len(tokenized_sentence)):\n",
        "    input_sequence.append(tokenized_sentence[:i+1])"
      ],
      "metadata": {
        "id": "N62KZO2SWCS9"
      },
      "execution_count": 8,
      "outputs": []
    },
    {
      "cell_type": "code",
      "source": [
        "input_sequence"
      ],
      "metadata": {
        "colab": {
          "base_uri": "https://localhost:8080/"
        },
        "id": "tx6C0RVPXpn0",
        "outputId": "83001c9c-7bf1-456e-eed4-29c4f094d07f"
      },
      "execution_count": 9,
      "outputs": [
        {
          "output_type": "execute_result",
          "data": {
            "text/plain": [
              "[[8, 2],\n",
              " [8, 2, 9],\n",
              " [8, 2, 9, 3],\n",
              " [8, 2, 9, 3, 10],\n",
              " [8, 2, 9, 3, 10, 11],\n",
              " [8, 2, 9, 3, 10, 11, 12],\n",
              " [8, 2, 9, 3, 10, 11, 12, 1],\n",
              " [8, 2, 9, 3, 10, 11, 12, 1, 13],\n",
              " [14, 15],\n",
              " [14, 15, 4],\n",
              " [14, 15, 4, 16],\n",
              " [14, 15, 4, 16, 1],\n",
              " [14, 15, 4, 16, 1, 17],\n",
              " [14, 15, 4, 16, 1, 17, 18],\n",
              " [14, 15, 4, 16, 1, 17, 18, 19],\n",
              " [14, 15, 4, 16, 1, 17, 18, 19, 5],\n",
              " [14, 15, 4, 16, 1, 17, 18, 19, 5, 6],\n",
              " [14, 15, 4, 16, 1, 17, 18, 19, 5, 6, 20],\n",
              " [14, 15, 4, 16, 1, 17, 18, 19, 5, 6, 20, 21],\n",
              " [14, 15, 4, 16, 1, 17, 18, 19, 5, 6, 20, 21, 22],\n",
              " [23, 24],\n",
              " [23, 24, 25],\n",
              " [23, 24, 25, 5],\n",
              " [23, 24, 25, 5, 26],\n",
              " [23, 24, 25, 5, 26, 27],\n",
              " [23, 24, 25, 5, 26, 27, 7],\n",
              " [23, 24, 25, 5, 26, 27, 7, 28],\n",
              " [23, 24, 25, 5, 26, 27, 7, 28, 1],\n",
              " [23, 24, 25, 5, 26, 27, 7, 28, 1, 29],\n",
              " [23, 24, 25, 5, 26, 27, 7, 28, 1, 29, 30],\n",
              " [23, 24, 25, 5, 26, 27, 7, 28, 1, 29, 30, 31],\n",
              " [32, 3],\n",
              " [32, 3, 33],\n",
              " [32, 3, 33, 34],\n",
              " [32, 3, 33, 34, 35],\n",
              " [32, 3, 33, 34, 35, 36],\n",
              " [32, 3, 33, 34, 35, 36, 37],\n",
              " [32, 3, 33, 34, 35, 36, 37, 38],\n",
              " [32, 3, 33, 34, 35, 36, 37, 38, 39],\n",
              " [32, 3, 33, 34, 35, 36, 37, 38, 39, 40],\n",
              " [32, 3, 33, 34, 35, 36, 37, 38, 39, 40, 1],\n",
              " [32, 3, 33, 34, 35, 36, 37, 38, 39, 40, 1, 6],\n",
              " [32, 3, 33, 34, 35, 36, 37, 38, 39, 40, 1, 6, 41],\n",
              " [42, 43],\n",
              " [42, 43, 2],\n",
              " [42, 43, 2, 44],\n",
              " [42, 43, 2, 44, 4],\n",
              " [42, 43, 2, 44, 4, 45],\n",
              " [42, 43, 2, 44, 4, 45, 1],\n",
              " [42, 43, 2, 44, 4, 45, 1, 46],\n",
              " [42, 43, 2, 44, 4, 45, 1, 46, 7],\n",
              " [42, 43, 2, 44, 4, 45, 1, 46, 7, 47]]"
            ]
          },
          "metadata": {},
          "execution_count": 9
        }
      ]
    },
    {
      "cell_type": "code",
      "source": [
        "max_len=max([len(x) for x in input_sequence])"
      ],
      "metadata": {
        "id": "qzjV7lBEX6P_"
      },
      "execution_count": 10,
      "outputs": []
    },
    {
      "cell_type": "code",
      "source": [
        "max_len"
      ],
      "metadata": {
        "colab": {
          "base_uri": "https://localhost:8080/"
        },
        "id": "qXD6McK4Yx8e",
        "outputId": "e0115e74-bccf-4095-faac-fa8bdf1628aa"
      },
      "execution_count": 11,
      "outputs": [
        {
          "output_type": "execute_result",
          "data": {
            "text/plain": [
              "13"
            ]
          },
          "metadata": {},
          "execution_count": 11
        }
      ]
    },
    {
      "cell_type": "code",
      "source": [
        "padded_input_sequences=pad_sequences(input_sequence,maxlen=max_len,padding='pre')"
      ],
      "metadata": {
        "id": "QTt9nkeqYy6l"
      },
      "execution_count": 12,
      "outputs": []
    },
    {
      "cell_type": "code",
      "source": [
        "padded_input_sequences"
      ],
      "metadata": {
        "colab": {
          "base_uri": "https://localhost:8080/"
        },
        "id": "hhZDEb7EZf_1",
        "outputId": "a0ff2f0c-38d5-4b4f-a3de-077cc32ea31f"
      },
      "execution_count": 13,
      "outputs": [
        {
          "output_type": "execute_result",
          "data": {
            "text/plain": [
              "array([[ 0,  0,  0,  0,  0,  0,  0,  0,  0,  0,  0,  8,  2],\n",
              "       [ 0,  0,  0,  0,  0,  0,  0,  0,  0,  0,  8,  2,  9],\n",
              "       [ 0,  0,  0,  0,  0,  0,  0,  0,  0,  8,  2,  9,  3],\n",
              "       [ 0,  0,  0,  0,  0,  0,  0,  0,  8,  2,  9,  3, 10],\n",
              "       [ 0,  0,  0,  0,  0,  0,  0,  8,  2,  9,  3, 10, 11],\n",
              "       [ 0,  0,  0,  0,  0,  0,  8,  2,  9,  3, 10, 11, 12],\n",
              "       [ 0,  0,  0,  0,  0,  8,  2,  9,  3, 10, 11, 12,  1],\n",
              "       [ 0,  0,  0,  0,  8,  2,  9,  3, 10, 11, 12,  1, 13],\n",
              "       [ 0,  0,  0,  0,  0,  0,  0,  0,  0,  0,  0, 14, 15],\n",
              "       [ 0,  0,  0,  0,  0,  0,  0,  0,  0,  0, 14, 15,  4],\n",
              "       [ 0,  0,  0,  0,  0,  0,  0,  0,  0, 14, 15,  4, 16],\n",
              "       [ 0,  0,  0,  0,  0,  0,  0,  0, 14, 15,  4, 16,  1],\n",
              "       [ 0,  0,  0,  0,  0,  0,  0, 14, 15,  4, 16,  1, 17],\n",
              "       [ 0,  0,  0,  0,  0,  0, 14, 15,  4, 16,  1, 17, 18],\n",
              "       [ 0,  0,  0,  0,  0, 14, 15,  4, 16,  1, 17, 18, 19],\n",
              "       [ 0,  0,  0,  0, 14, 15,  4, 16,  1, 17, 18, 19,  5],\n",
              "       [ 0,  0,  0, 14, 15,  4, 16,  1, 17, 18, 19,  5,  6],\n",
              "       [ 0,  0, 14, 15,  4, 16,  1, 17, 18, 19,  5,  6, 20],\n",
              "       [ 0, 14, 15,  4, 16,  1, 17, 18, 19,  5,  6, 20, 21],\n",
              "       [14, 15,  4, 16,  1, 17, 18, 19,  5,  6, 20, 21, 22],\n",
              "       [ 0,  0,  0,  0,  0,  0,  0,  0,  0,  0,  0, 23, 24],\n",
              "       [ 0,  0,  0,  0,  0,  0,  0,  0,  0,  0, 23, 24, 25],\n",
              "       [ 0,  0,  0,  0,  0,  0,  0,  0,  0, 23, 24, 25,  5],\n",
              "       [ 0,  0,  0,  0,  0,  0,  0,  0, 23, 24, 25,  5, 26],\n",
              "       [ 0,  0,  0,  0,  0,  0,  0, 23, 24, 25,  5, 26, 27],\n",
              "       [ 0,  0,  0,  0,  0,  0, 23, 24, 25,  5, 26, 27,  7],\n",
              "       [ 0,  0,  0,  0,  0, 23, 24, 25,  5, 26, 27,  7, 28],\n",
              "       [ 0,  0,  0,  0, 23, 24, 25,  5, 26, 27,  7, 28,  1],\n",
              "       [ 0,  0,  0, 23, 24, 25,  5, 26, 27,  7, 28,  1, 29],\n",
              "       [ 0,  0, 23, 24, 25,  5, 26, 27,  7, 28,  1, 29, 30],\n",
              "       [ 0, 23, 24, 25,  5, 26, 27,  7, 28,  1, 29, 30, 31],\n",
              "       [ 0,  0,  0,  0,  0,  0,  0,  0,  0,  0,  0, 32,  3],\n",
              "       [ 0,  0,  0,  0,  0,  0,  0,  0,  0,  0, 32,  3, 33],\n",
              "       [ 0,  0,  0,  0,  0,  0,  0,  0,  0, 32,  3, 33, 34],\n",
              "       [ 0,  0,  0,  0,  0,  0,  0,  0, 32,  3, 33, 34, 35],\n",
              "       [ 0,  0,  0,  0,  0,  0,  0, 32,  3, 33, 34, 35, 36],\n",
              "       [ 0,  0,  0,  0,  0,  0, 32,  3, 33, 34, 35, 36, 37],\n",
              "       [ 0,  0,  0,  0,  0, 32,  3, 33, 34, 35, 36, 37, 38],\n",
              "       [ 0,  0,  0,  0, 32,  3, 33, 34, 35, 36, 37, 38, 39],\n",
              "       [ 0,  0,  0, 32,  3, 33, 34, 35, 36, 37, 38, 39, 40],\n",
              "       [ 0,  0, 32,  3, 33, 34, 35, 36, 37, 38, 39, 40,  1],\n",
              "       [ 0, 32,  3, 33, 34, 35, 36, 37, 38, 39, 40,  1,  6],\n",
              "       [32,  3, 33, 34, 35, 36, 37, 38, 39, 40,  1,  6, 41],\n",
              "       [ 0,  0,  0,  0,  0,  0,  0,  0,  0,  0,  0, 42, 43],\n",
              "       [ 0,  0,  0,  0,  0,  0,  0,  0,  0,  0, 42, 43,  2],\n",
              "       [ 0,  0,  0,  0,  0,  0,  0,  0,  0, 42, 43,  2, 44],\n",
              "       [ 0,  0,  0,  0,  0,  0,  0,  0, 42, 43,  2, 44,  4],\n",
              "       [ 0,  0,  0,  0,  0,  0,  0, 42, 43,  2, 44,  4, 45],\n",
              "       [ 0,  0,  0,  0,  0,  0, 42, 43,  2, 44,  4, 45,  1],\n",
              "       [ 0,  0,  0,  0,  0, 42, 43,  2, 44,  4, 45,  1, 46],\n",
              "       [ 0,  0,  0,  0, 42, 43,  2, 44,  4, 45,  1, 46,  7],\n",
              "       [ 0,  0,  0, 42, 43,  2, 44,  4, 45,  1, 46,  7, 47]], dtype=int32)"
            ]
          },
          "metadata": {},
          "execution_count": 13
        }
      ]
    },
    {
      "cell_type": "code",
      "source": [
        "X=padded_input_sequences[:,:-1]\n",
        "y=padded_input_sequences[:,-1]"
      ],
      "metadata": {
        "id": "uREtDJTdZknv"
      },
      "execution_count": 14,
      "outputs": []
    },
    {
      "cell_type": "code",
      "source": [
        "X"
      ],
      "metadata": {
        "colab": {
          "base_uri": "https://localhost:8080/"
        },
        "id": "K3k8Rp-JaTCC",
        "outputId": "b7545285-4e18-4457-cfaf-72a2b37c2ae0"
      },
      "execution_count": 15,
      "outputs": [
        {
          "output_type": "execute_result",
          "data": {
            "text/plain": [
              "array([[ 0,  0,  0,  0,  0,  0,  0,  0,  0,  0,  0,  8],\n",
              "       [ 0,  0,  0,  0,  0,  0,  0,  0,  0,  0,  8,  2],\n",
              "       [ 0,  0,  0,  0,  0,  0,  0,  0,  0,  8,  2,  9],\n",
              "       [ 0,  0,  0,  0,  0,  0,  0,  0,  8,  2,  9,  3],\n",
              "       [ 0,  0,  0,  0,  0,  0,  0,  8,  2,  9,  3, 10],\n",
              "       [ 0,  0,  0,  0,  0,  0,  8,  2,  9,  3, 10, 11],\n",
              "       [ 0,  0,  0,  0,  0,  8,  2,  9,  3, 10, 11, 12],\n",
              "       [ 0,  0,  0,  0,  8,  2,  9,  3, 10, 11, 12,  1],\n",
              "       [ 0,  0,  0,  0,  0,  0,  0,  0,  0,  0,  0, 14],\n",
              "       [ 0,  0,  0,  0,  0,  0,  0,  0,  0,  0, 14, 15],\n",
              "       [ 0,  0,  0,  0,  0,  0,  0,  0,  0, 14, 15,  4],\n",
              "       [ 0,  0,  0,  0,  0,  0,  0,  0, 14, 15,  4, 16],\n",
              "       [ 0,  0,  0,  0,  0,  0,  0, 14, 15,  4, 16,  1],\n",
              "       [ 0,  0,  0,  0,  0,  0, 14, 15,  4, 16,  1, 17],\n",
              "       [ 0,  0,  0,  0,  0, 14, 15,  4, 16,  1, 17, 18],\n",
              "       [ 0,  0,  0,  0, 14, 15,  4, 16,  1, 17, 18, 19],\n",
              "       [ 0,  0,  0, 14, 15,  4, 16,  1, 17, 18, 19,  5],\n",
              "       [ 0,  0, 14, 15,  4, 16,  1, 17, 18, 19,  5,  6],\n",
              "       [ 0, 14, 15,  4, 16,  1, 17, 18, 19,  5,  6, 20],\n",
              "       [14, 15,  4, 16,  1, 17, 18, 19,  5,  6, 20, 21],\n",
              "       [ 0,  0,  0,  0,  0,  0,  0,  0,  0,  0,  0, 23],\n",
              "       [ 0,  0,  0,  0,  0,  0,  0,  0,  0,  0, 23, 24],\n",
              "       [ 0,  0,  0,  0,  0,  0,  0,  0,  0, 23, 24, 25],\n",
              "       [ 0,  0,  0,  0,  0,  0,  0,  0, 23, 24, 25,  5],\n",
              "       [ 0,  0,  0,  0,  0,  0,  0, 23, 24, 25,  5, 26],\n",
              "       [ 0,  0,  0,  0,  0,  0, 23, 24, 25,  5, 26, 27],\n",
              "       [ 0,  0,  0,  0,  0, 23, 24, 25,  5, 26, 27,  7],\n",
              "       [ 0,  0,  0,  0, 23, 24, 25,  5, 26, 27,  7, 28],\n",
              "       [ 0,  0,  0, 23, 24, 25,  5, 26, 27,  7, 28,  1],\n",
              "       [ 0,  0, 23, 24, 25,  5, 26, 27,  7, 28,  1, 29],\n",
              "       [ 0, 23, 24, 25,  5, 26, 27,  7, 28,  1, 29, 30],\n",
              "       [ 0,  0,  0,  0,  0,  0,  0,  0,  0,  0,  0, 32],\n",
              "       [ 0,  0,  0,  0,  0,  0,  0,  0,  0,  0, 32,  3],\n",
              "       [ 0,  0,  0,  0,  0,  0,  0,  0,  0, 32,  3, 33],\n",
              "       [ 0,  0,  0,  0,  0,  0,  0,  0, 32,  3, 33, 34],\n",
              "       [ 0,  0,  0,  0,  0,  0,  0, 32,  3, 33, 34, 35],\n",
              "       [ 0,  0,  0,  0,  0,  0, 32,  3, 33, 34, 35, 36],\n",
              "       [ 0,  0,  0,  0,  0, 32,  3, 33, 34, 35, 36, 37],\n",
              "       [ 0,  0,  0,  0, 32,  3, 33, 34, 35, 36, 37, 38],\n",
              "       [ 0,  0,  0, 32,  3, 33, 34, 35, 36, 37, 38, 39],\n",
              "       [ 0,  0, 32,  3, 33, 34, 35, 36, 37, 38, 39, 40],\n",
              "       [ 0, 32,  3, 33, 34, 35, 36, 37, 38, 39, 40,  1],\n",
              "       [32,  3, 33, 34, 35, 36, 37, 38, 39, 40,  1,  6],\n",
              "       [ 0,  0,  0,  0,  0,  0,  0,  0,  0,  0,  0, 42],\n",
              "       [ 0,  0,  0,  0,  0,  0,  0,  0,  0,  0, 42, 43],\n",
              "       [ 0,  0,  0,  0,  0,  0,  0,  0,  0, 42, 43,  2],\n",
              "       [ 0,  0,  0,  0,  0,  0,  0,  0, 42, 43,  2, 44],\n",
              "       [ 0,  0,  0,  0,  0,  0,  0, 42, 43,  2, 44,  4],\n",
              "       [ 0,  0,  0,  0,  0,  0, 42, 43,  2, 44,  4, 45],\n",
              "       [ 0,  0,  0,  0,  0, 42, 43,  2, 44,  4, 45,  1],\n",
              "       [ 0,  0,  0,  0, 42, 43,  2, 44,  4, 45,  1, 46],\n",
              "       [ 0,  0,  0, 42, 43,  2, 44,  4, 45,  1, 46,  7]], dtype=int32)"
            ]
          },
          "metadata": {},
          "execution_count": 15
        }
      ]
    },
    {
      "cell_type": "code",
      "source": [
        "y"
      ],
      "metadata": {
        "colab": {
          "base_uri": "https://localhost:8080/"
        },
        "id": "SvB4Or9MaVqx",
        "outputId": "a09761b3-a4c1-4999-dfc1-8f4b71fc300c"
      },
      "execution_count": 16,
      "outputs": [
        {
          "output_type": "execute_result",
          "data": {
            "text/plain": [
              "array([ 2,  9,  3, 10, 11, 12,  1, 13, 15,  4, 16,  1, 17, 18, 19,  5,  6,\n",
              "       20, 21, 22, 24, 25,  5, 26, 27,  7, 28,  1, 29, 30, 31,  3, 33, 34,\n",
              "       35, 36, 37, 38, 39, 40,  1,  6, 41, 43,  2, 44,  4, 45,  1, 46,  7,\n",
              "       47], dtype=int32)"
            ]
          },
          "metadata": {},
          "execution_count": 16
        }
      ]
    },
    {
      "cell_type": "code",
      "source": [
        "tokenizer.word_index"
      ],
      "metadata": {
        "colab": {
          "base_uri": "https://localhost:8080/"
        },
        "id": "-y_7OiL0bQYR",
        "outputId": "660d250c-31ad-4c94-81e0-8ae2d037003f"
      },
      "execution_count": 17,
      "outputs": [
        {
          "output_type": "execute_result",
          "data": {
            "text/plain": [
              "{'and': 1,\n",
              " 'is': 2,\n",
              " 'the': 3,\n",
              " 'new': 4,\n",
              " 'to': 5,\n",
              " 'make': 6,\n",
              " 'for': 7,\n",
              " 'technology': 8,\n",
              " 'changing': 9,\n",
              " 'way': 10,\n",
              " 'we': 11,\n",
              " 'live': 12,\n",
              " 'work': 13,\n",
              " 'every': 14,\n",
              " 'day': 15,\n",
              " 'devices': 16,\n",
              " 'applications': 17,\n",
              " 'are': 18,\n",
              " 'introduced': 19,\n",
              " 'our': 20,\n",
              " 'lives': 21,\n",
              " 'easier': 22,\n",
              " 'people': 23,\n",
              " 'use': 24,\n",
              " 'smartphones': 25,\n",
              " 'communicate': 26,\n",
              " 'search': 27,\n",
              " 'information': 28,\n",
              " 'complete': 29,\n",
              " 'daily': 30,\n",
              " 'tasks': 31,\n",
              " 'with': 32,\n",
              " 'help': 33,\n",
              " 'of': 34,\n",
              " 'artificial': 35,\n",
              " 'intelligence': 36,\n",
              " 'machines': 37,\n",
              " 'can': 38,\n",
              " 'now': 39,\n",
              " 'learn': 40,\n",
              " 'decisions': 41,\n",
              " 'this': 42,\n",
              " 'transformation': 43,\n",
              " 'creating': 44,\n",
              " 'opportunities': 45,\n",
              " 'challenges': 46,\n",
              " 'society': 47}"
            ]
          },
          "metadata": {},
          "execution_count": 17
        }
      ]
    },
    {
      "cell_type": "code",
      "source": [
        "y=to_categorical(y,num_classes=88)"
      ],
      "metadata": {
        "id": "Ll_wyh0abUdG"
      },
      "execution_count": 18,
      "outputs": []
    },
    {
      "cell_type": "code",
      "source": [
        "y"
      ],
      "metadata": {
        "colab": {
          "base_uri": "https://localhost:8080/"
        },
        "id": "Mk9VHf_9bvbV",
        "outputId": "7fbe0895-d84b-413b-8c45-4f6263d06691"
      },
      "execution_count": 19,
      "outputs": [
        {
          "output_type": "execute_result",
          "data": {
            "text/plain": [
              "array([[0., 0., 1., ..., 0., 0., 0.],\n",
              "       [0., 0., 0., ..., 0., 0., 0.],\n",
              "       [0., 0., 0., ..., 0., 0., 0.],\n",
              "       ...,\n",
              "       [0., 0., 0., ..., 0., 0., 0.],\n",
              "       [0., 0., 0., ..., 0., 0., 0.],\n",
              "       [0., 0., 0., ..., 0., 0., 0.]])"
            ]
          },
          "metadata": {},
          "execution_count": 19
        }
      ]
    },
    {
      "cell_type": "code",
      "source": [
        "y.shape"
      ],
      "metadata": {
        "colab": {
          "base_uri": "https://localhost:8080/"
        },
        "id": "JrGdPqsZbzdg",
        "outputId": "23449a19-d403-441c-d19a-c424c24c9022"
      },
      "execution_count": 20,
      "outputs": [
        {
          "output_type": "execute_result",
          "data": {
            "text/plain": [
              "(52, 88)"
            ]
          },
          "metadata": {},
          "execution_count": 20
        }
      ]
    },
    {
      "cell_type": "code",
      "source": [
        "X.shape"
      ],
      "metadata": {
        "colab": {
          "base_uri": "https://localhost:8080/"
        },
        "id": "SM_u8L7qb31l",
        "outputId": "356b83e7-bb59-48f9-f817-6ed0e3cbe89f"
      },
      "execution_count": 21,
      "outputs": [
        {
          "output_type": "execute_result",
          "data": {
            "text/plain": [
              "(52, 12)"
            ]
          },
          "metadata": {},
          "execution_count": 21
        }
      ]
    },
    {
      "cell_type": "markdown",
      "source": [
        "## Model Building"
      ],
      "metadata": {
        "id": "2VDl3Mu4cdPd"
      }
    },
    {
      "cell_type": "code",
      "source": [
        "model = Sequential()\n",
        "model.add(Embedding(88,100,input_length=33))\n",
        "model.add(GRU(150))\n",
        "model.add(Dense(88,activation='softmax'))"
      ],
      "metadata": {
        "colab": {
          "base_uri": "https://localhost:8080/"
        },
        "id": "gwe0sN7ncf5f",
        "outputId": "c6ed46b7-766f-4bd5-838c-eb813263f956"
      },
      "execution_count": 22,
      "outputs": [
        {
          "output_type": "stream",
          "name": "stderr",
          "text": [
            "/usr/local/lib/python3.11/dist-packages/keras/src/layers/core/embedding.py:90: UserWarning: Argument `input_length` is deprecated. Just remove it.\n",
            "  warnings.warn(\n"
          ]
        }
      ]
    },
    {
      "cell_type": "code",
      "source": [
        "model.compile(loss='categorical_crossentropy',optimizer='adam',metrics=['accuracy'])"
      ],
      "metadata": {
        "id": "gsOXN97HefuS"
      },
      "execution_count": 23,
      "outputs": []
    },
    {
      "cell_type": "code",
      "source": [
        "model.summary()"
      ],
      "metadata": {
        "colab": {
          "base_uri": "https://localhost:8080/",
          "height": 225
        },
        "id": "bK02_dXWe0I4",
        "outputId": "e0d6da44-0a66-4894-8563-f788b81387e5"
      },
      "execution_count": 24,
      "outputs": [
        {
          "output_type": "display_data",
          "data": {
            "text/plain": [
              "\u001b[1mModel: \"sequential\"\u001b[0m\n"
            ],
            "text/html": [
              "<pre style=\"white-space:pre;overflow-x:auto;line-height:normal;font-family:Menlo,'DejaVu Sans Mono',consolas,'Courier New',monospace\"><span style=\"font-weight: bold\">Model: \"sequential\"</span>\n",
              "</pre>\n"
            ]
          },
          "metadata": {}
        },
        {
          "output_type": "display_data",
          "data": {
            "text/plain": [
              "┏━━━━━━━━━━━━━━━━━━━━━━━━━━━━━━━━━┳━━━━━━━━━━━━━━━━━━━━━━━━┳━━━━━━━━━━━━━━━┓\n",
              "┃\u001b[1m \u001b[0m\u001b[1mLayer (type)                   \u001b[0m\u001b[1m \u001b[0m┃\u001b[1m \u001b[0m\u001b[1mOutput Shape          \u001b[0m\u001b[1m \u001b[0m┃\u001b[1m \u001b[0m\u001b[1m      Param #\u001b[0m\u001b[1m \u001b[0m┃\n",
              "┡━━━━━━━━━━━━━━━━━━━━━━━━━━━━━━━━━╇━━━━━━━━━━━━━━━━━━━━━━━━╇━━━━━━━━━━━━━━━┩\n",
              "│ embedding (\u001b[38;5;33mEmbedding\u001b[0m)           │ ?                      │   \u001b[38;5;34m0\u001b[0m (unbuilt) │\n",
              "├─────────────────────────────────┼────────────────────────┼───────────────┤\n",
              "│ gru (\u001b[38;5;33mGRU\u001b[0m)                       │ ?                      │   \u001b[38;5;34m0\u001b[0m (unbuilt) │\n",
              "├─────────────────────────────────┼────────────────────────┼───────────────┤\n",
              "│ dense (\u001b[38;5;33mDense\u001b[0m)                   │ ?                      │   \u001b[38;5;34m0\u001b[0m (unbuilt) │\n",
              "└─────────────────────────────────┴────────────────────────┴───────────────┘\n"
            ],
            "text/html": [
              "<pre style=\"white-space:pre;overflow-x:auto;line-height:normal;font-family:Menlo,'DejaVu Sans Mono',consolas,'Courier New',monospace\">┏━━━━━━━━━━━━━━━━━━━━━━━━━━━━━━━━━┳━━━━━━━━━━━━━━━━━━━━━━━━┳━━━━━━━━━━━━━━━┓\n",
              "┃<span style=\"font-weight: bold\"> Layer (type)                    </span>┃<span style=\"font-weight: bold\"> Output Shape           </span>┃<span style=\"font-weight: bold\">       Param # </span>┃\n",
              "┡━━━━━━━━━━━━━━━━━━━━━━━━━━━━━━━━━╇━━━━━━━━━━━━━━━━━━━━━━━━╇━━━━━━━━━━━━━━━┩\n",
              "│ embedding (<span style=\"color: #0087ff; text-decoration-color: #0087ff\">Embedding</span>)           │ ?                      │   <span style=\"color: #00af00; text-decoration-color: #00af00\">0</span> (unbuilt) │\n",
              "├─────────────────────────────────┼────────────────────────┼───────────────┤\n",
              "│ gru (<span style=\"color: #0087ff; text-decoration-color: #0087ff\">GRU</span>)                       │ ?                      │   <span style=\"color: #00af00; text-decoration-color: #00af00\">0</span> (unbuilt) │\n",
              "├─────────────────────────────────┼────────────────────────┼───────────────┤\n",
              "│ dense (<span style=\"color: #0087ff; text-decoration-color: #0087ff\">Dense</span>)                   │ ?                      │   <span style=\"color: #00af00; text-decoration-color: #00af00\">0</span> (unbuilt) │\n",
              "└─────────────────────────────────┴────────────────────────┴───────────────┘\n",
              "</pre>\n"
            ]
          },
          "metadata": {}
        },
        {
          "output_type": "display_data",
          "data": {
            "text/plain": [
              "\u001b[1m Total params: \u001b[0m\u001b[38;5;34m0\u001b[0m (0.00 B)\n"
            ],
            "text/html": [
              "<pre style=\"white-space:pre;overflow-x:auto;line-height:normal;font-family:Menlo,'DejaVu Sans Mono',consolas,'Courier New',monospace\"><span style=\"font-weight: bold\"> Total params: </span><span style=\"color: #00af00; text-decoration-color: #00af00\">0</span> (0.00 B)\n",
              "</pre>\n"
            ]
          },
          "metadata": {}
        },
        {
          "output_type": "display_data",
          "data": {
            "text/plain": [
              "\u001b[1m Trainable params: \u001b[0m\u001b[38;5;34m0\u001b[0m (0.00 B)\n"
            ],
            "text/html": [
              "<pre style=\"white-space:pre;overflow-x:auto;line-height:normal;font-family:Menlo,'DejaVu Sans Mono',consolas,'Courier New',monospace\"><span style=\"font-weight: bold\"> Trainable params: </span><span style=\"color: #00af00; text-decoration-color: #00af00\">0</span> (0.00 B)\n",
              "</pre>\n"
            ]
          },
          "metadata": {}
        },
        {
          "output_type": "display_data",
          "data": {
            "text/plain": [
              "\u001b[1m Non-trainable params: \u001b[0m\u001b[38;5;34m0\u001b[0m (0.00 B)\n"
            ],
            "text/html": [
              "<pre style=\"white-space:pre;overflow-x:auto;line-height:normal;font-family:Menlo,'DejaVu Sans Mono',consolas,'Courier New',monospace\"><span style=\"font-weight: bold\"> Non-trainable params: </span><span style=\"color: #00af00; text-decoration-color: #00af00\">0</span> (0.00 B)\n",
              "</pre>\n"
            ]
          },
          "metadata": {}
        }
      ]
    },
    {
      "cell_type": "code",
      "source": [
        "X.shape"
      ],
      "metadata": {
        "colab": {
          "base_uri": "https://localhost:8080/"
        },
        "id": "ZPsr7bcUg5is",
        "outputId": "867f4ca3-0972-4a06-baf8-11e853e95b93"
      },
      "execution_count": 25,
      "outputs": [
        {
          "output_type": "execute_result",
          "data": {
            "text/plain": [
              "(52, 12)"
            ]
          },
          "metadata": {},
          "execution_count": 25
        }
      ]
    },
    {
      "cell_type": "code",
      "source": [
        "y.shape"
      ],
      "metadata": {
        "colab": {
          "base_uri": "https://localhost:8080/"
        },
        "id": "vIcTcrasg8y6",
        "outputId": "43599bc0-3f34-4e55-b68b-bbd1ad95968c"
      },
      "execution_count": 26,
      "outputs": [
        {
          "output_type": "execute_result",
          "data": {
            "text/plain": [
              "(52, 88)"
            ]
          },
          "metadata": {},
          "execution_count": 26
        }
      ]
    },
    {
      "cell_type": "code",
      "source": [
        "model.fit(X,y,epochs=100)"
      ],
      "metadata": {
        "colab": {
          "base_uri": "https://localhost:8080/"
        },
        "id": "rfYOi_mpg-Ud",
        "outputId": "ef54a195-6f65-4897-a1cb-185ace0c342c"
      },
      "execution_count": 27,
      "outputs": [
        {
          "output_type": "stream",
          "name": "stdout",
          "text": [
            "Epoch 1/100\n",
            "\u001b[1m2/2\u001b[0m \u001b[32m━━━━━━━━━━━━━━━━━━━━\u001b[0m\u001b[37m\u001b[0m \u001b[1m4s\u001b[0m 38ms/step - accuracy: 0.0000e+00 - loss: 4.4749\n",
            "Epoch 2/100\n",
            "\u001b[1m2/2\u001b[0m \u001b[32m━━━━━━━━━━━━━━━━━━━━\u001b[0m\u001b[37m\u001b[0m \u001b[1m0s\u001b[0m 34ms/step - accuracy: 0.1314 - loss: 4.4550\n",
            "Epoch 3/100\n",
            "\u001b[1m2/2\u001b[0m \u001b[32m━━━━━━━━━━━━━━━━━━━━\u001b[0m\u001b[37m\u001b[0m \u001b[1m0s\u001b[0m 34ms/step - accuracy: 0.1883 - loss: 4.4351\n",
            "Epoch 4/100\n",
            "\u001b[1m2/2\u001b[0m \u001b[32m━━━━━━━━━━━━━━━━━━━━\u001b[0m\u001b[37m\u001b[0m \u001b[1m0s\u001b[0m 35ms/step - accuracy: 0.1651 - loss: 4.4114\n",
            "Epoch 5/100\n",
            "\u001b[1m2/2\u001b[0m \u001b[32m━━━━━━━━━━━━━━━━━━━━\u001b[0m\u001b[37m\u001b[0m \u001b[1m0s\u001b[0m 35ms/step - accuracy: 0.1442 - loss: 4.3804 \n",
            "Epoch 6/100\n",
            "\u001b[1m2/2\u001b[0m \u001b[32m━━━━━━━━━━━━━━━━━━━━\u001b[0m\u001b[37m\u001b[0m \u001b[1m0s\u001b[0m 35ms/step - accuracy: 0.1210 - loss: 4.3401\n",
            "Epoch 7/100\n",
            "\u001b[1m2/2\u001b[0m \u001b[32m━━━━━━━━━━━━━━━━━━━━\u001b[0m\u001b[37m\u001b[0m \u001b[1m0s\u001b[0m 34ms/step - accuracy: 0.1418 - loss: 4.2741\n",
            "Epoch 8/100\n",
            "\u001b[1m2/2\u001b[0m \u001b[32m━━━━━━━━━━━━━━━━━━━━\u001b[0m\u001b[37m\u001b[0m \u001b[1m0s\u001b[0m 33ms/step - accuracy: 0.1186 - loss: 4.1629\n",
            "Epoch 9/100\n",
            "\u001b[1m2/2\u001b[0m \u001b[32m━━━━━━━━━━━━━━━━━━━━\u001b[0m\u001b[37m\u001b[0m \u001b[1m0s\u001b[0m 35ms/step - accuracy: 0.1186 - loss: 3.9868\n",
            "Epoch 10/100\n",
            "\u001b[1m2/2\u001b[0m \u001b[32m━━━━━━━━━━━━━━━━━━━━\u001b[0m\u001b[37m\u001b[0m \u001b[1m0s\u001b[0m 37ms/step - accuracy: 0.0745 - loss: 3.8175 \n",
            "Epoch 11/100\n",
            "\u001b[1m2/2\u001b[0m \u001b[32m━━━━━━━━━━━━━━━━━━━━\u001b[0m\u001b[37m\u001b[0m \u001b[1m0s\u001b[0m 35ms/step - accuracy: 0.0954 - loss: 3.8909 \n",
            "Epoch 12/100\n",
            "\u001b[1m2/2\u001b[0m \u001b[32m━━━━━━━━━━━━━━━━━━━━\u001b[0m\u001b[37m\u001b[0m \u001b[1m0s\u001b[0m 35ms/step - accuracy: 0.0849 - loss: 3.7625\n",
            "Epoch 13/100\n",
            "\u001b[1m2/2\u001b[0m \u001b[32m━━━━━━━━━━━━━━━━━━━━\u001b[0m\u001b[37m\u001b[0m \u001b[1m0s\u001b[0m 34ms/step - accuracy: 0.0954 - loss: 3.6428\n",
            "Epoch 14/100\n",
            "\u001b[1m2/2\u001b[0m \u001b[32m━━━━━━━━━━━━━━━━━━━━\u001b[0m\u001b[37m\u001b[0m \u001b[1m0s\u001b[0m 34ms/step - accuracy: 0.1314 - loss: 3.5932\n",
            "Epoch 15/100\n",
            "\u001b[1m2/2\u001b[0m \u001b[32m━━━━━━━━━━━━━━━━━━━━\u001b[0m\u001b[37m\u001b[0m \u001b[1m0s\u001b[0m 33ms/step - accuracy: 0.1418 - loss: 3.5184\n",
            "Epoch 16/100\n",
            "\u001b[1m2/2\u001b[0m \u001b[32m━━━━━━━━━━━━━━━━━━━━\u001b[0m\u001b[37m\u001b[0m \u001b[1m0s\u001b[0m 35ms/step - accuracy: 0.1314 - loss: 3.5008\n",
            "Epoch 17/100\n",
            "\u001b[1m2/2\u001b[0m \u001b[32m━━━━━━━━━━━━━━━━━━━━\u001b[0m\u001b[37m\u001b[0m \u001b[1m0s\u001b[0m 36ms/step - accuracy: 0.1210 - loss: 3.4625\n",
            "Epoch 18/100\n",
            "\u001b[1m2/2\u001b[0m \u001b[32m━━━━━━━━━━━━━━━━━━━━\u001b[0m\u001b[37m\u001b[0m \u001b[1m0s\u001b[0m 38ms/step - accuracy: 0.1210 - loss: 3.3992\n",
            "Epoch 19/100\n",
            "\u001b[1m2/2\u001b[0m \u001b[32m━━━━━━━━━━━━━━━━━━━━\u001b[0m\u001b[37m\u001b[0m \u001b[1m0s\u001b[0m 34ms/step - accuracy: 0.1627 - loss: 3.2944\n",
            "Epoch 20/100\n",
            "\u001b[1m2/2\u001b[0m \u001b[32m━━━━━━━━━━━━━━━━━━━━\u001b[0m\u001b[37m\u001b[0m \u001b[1m0s\u001b[0m 33ms/step - accuracy: 0.1314 - loss: 3.2482\n",
            "Epoch 21/100\n",
            "\u001b[1m2/2\u001b[0m \u001b[32m━━━━━━━━━━━━━━━━━━━━\u001b[0m\u001b[37m\u001b[0m \u001b[1m0s\u001b[0m 37ms/step - accuracy: 0.1522 - loss: 3.1644 \n",
            "Epoch 22/100\n",
            "\u001b[1m2/2\u001b[0m \u001b[32m━━━━━━━━━━━━━━━━━━━━\u001b[0m\u001b[37m\u001b[0m \u001b[1m0s\u001b[0m 35ms/step - accuracy: 0.1314 - loss: 3.1278\n",
            "Epoch 23/100\n",
            "\u001b[1m2/2\u001b[0m \u001b[32m━━━━━━━━━━━━━━━━━━━━\u001b[0m\u001b[37m\u001b[0m \u001b[1m0s\u001b[0m 36ms/step - accuracy: 0.1466 - loss: 3.1015 \n",
            "Epoch 24/100\n",
            "\u001b[1m2/2\u001b[0m \u001b[32m━━━━━━━━━━━━━━━━━━━━\u001b[0m\u001b[37m\u001b[0m \u001b[1m0s\u001b[0m 34ms/step - accuracy: 0.1987 - loss: 2.9871\n",
            "Epoch 25/100\n",
            "\u001b[1m2/2\u001b[0m \u001b[32m━━━━━━━━━━━━━━━━━━━━\u001b[0m\u001b[37m\u001b[0m \u001b[1m0s\u001b[0m 34ms/step - accuracy: 0.1779 - loss: 2.9240 \n",
            "Epoch 26/100\n",
            "\u001b[1m2/2\u001b[0m \u001b[32m━━━━━━━━━━━━━━━━━━━━\u001b[0m\u001b[37m\u001b[0m \u001b[1m0s\u001b[0m 46ms/step - accuracy: 0.1907 - loss: 2.8901\n",
            "Epoch 27/100\n",
            "\u001b[1m2/2\u001b[0m \u001b[32m━━━━━━━━━━━━━━━━━━━━\u001b[0m\u001b[37m\u001b[0m \u001b[1m0s\u001b[0m 33ms/step - accuracy: 0.1907 - loss: 2.8079\n",
            "Epoch 28/100\n",
            "\u001b[1m2/2\u001b[0m \u001b[32m━━━━━━━━━━━━━━━━━━━━\u001b[0m\u001b[37m\u001b[0m \u001b[1m0s\u001b[0m 35ms/step - accuracy: 0.2476 - loss: 2.6877\n",
            "Epoch 29/100\n",
            "\u001b[1m2/2\u001b[0m \u001b[32m━━━━━━━━━━━━━━━━━━━━\u001b[0m\u001b[37m\u001b[0m \u001b[1m0s\u001b[0m 35ms/step - accuracy: 0.2500 - loss: 2.6716\n",
            "Epoch 30/100\n",
            "\u001b[1m2/2\u001b[0m \u001b[32m━━━━━━━━━━━━━━━━━━━━\u001b[0m\u001b[37m\u001b[0m \u001b[1m0s\u001b[0m 35ms/step - accuracy: 0.2372 - loss: 2.5909\n",
            "Epoch 31/100\n",
            "\u001b[1m2/2\u001b[0m \u001b[32m━━━━━━━━━━━━━━━━━━━━\u001b[0m\u001b[37m\u001b[0m \u001b[1m0s\u001b[0m 34ms/step - accuracy: 0.2628 - loss: 2.5410\n",
            "Epoch 32/100\n",
            "\u001b[1m2/2\u001b[0m \u001b[32m━━━━━━━━━━━━━━━━━━━━\u001b[0m\u001b[37m\u001b[0m \u001b[1m0s\u001b[0m 36ms/step - accuracy: 0.3197 - loss: 2.4426 \n",
            "Epoch 33/100\n",
            "\u001b[1m2/2\u001b[0m \u001b[32m━━━━━━━━━━━━━━━━━━━━\u001b[0m\u001b[37m\u001b[0m \u001b[1m0s\u001b[0m 35ms/step - accuracy: 0.3141 - loss: 2.4242 \n",
            "Epoch 34/100\n",
            "\u001b[1m2/2\u001b[0m \u001b[32m━━━━━━━━━━━━━━━━━━━━\u001b[0m\u001b[37m\u001b[0m \u001b[1m0s\u001b[0m 36ms/step - accuracy: 0.3790 - loss: 2.3439\n",
            "Epoch 35/100\n",
            "\u001b[1m2/2\u001b[0m \u001b[32m━━━━━━━━━━━━━━━━━━━━\u001b[0m\u001b[37m\u001b[0m \u001b[1m0s\u001b[0m 33ms/step - accuracy: 0.3558 - loss: 2.2788\n",
            "Epoch 36/100\n",
            "\u001b[1m2/2\u001b[0m \u001b[32m━━━━━━━━━━━━━━━━━━━━\u001b[0m\u001b[37m\u001b[0m \u001b[1m0s\u001b[0m 35ms/step - accuracy: 0.3998 - loss: 2.1965\n",
            "Epoch 37/100\n",
            "\u001b[1m2/2\u001b[0m \u001b[32m━━━━━━━━━━━━━━━━━━━━\u001b[0m\u001b[37m\u001b[0m \u001b[1m0s\u001b[0m 38ms/step - accuracy: 0.3894 - loss: 2.1626 \n",
            "Epoch 38/100\n",
            "\u001b[1m2/2\u001b[0m \u001b[32m━━━━━━━━━━━━━━━━━━━━\u001b[0m\u001b[37m\u001b[0m \u001b[1m0s\u001b[0m 35ms/step - accuracy: 0.3814 - loss: 2.0972\n",
            "Epoch 39/100\n",
            "\u001b[1m2/2\u001b[0m \u001b[32m━━━━━━━━━━━━━━━━━━━━\u001b[0m\u001b[37m\u001b[0m \u001b[1m0s\u001b[0m 35ms/step - accuracy: 0.4848 - loss: 2.0204\n",
            "Epoch 40/100\n",
            "\u001b[1m2/2\u001b[0m \u001b[32m━━━━━━━━━━━━━━━━━━━━\u001b[0m\u001b[37m\u001b[0m \u001b[1m0s\u001b[0m 33ms/step - accuracy: 0.5000 - loss: 1.9709\n",
            "Epoch 41/100\n",
            "\u001b[1m2/2\u001b[0m \u001b[32m━━━━━━━━━━━━━━━━━━━━\u001b[0m\u001b[37m\u001b[0m \u001b[1m0s\u001b[0m 34ms/step - accuracy: 0.5849 - loss: 1.9255\n",
            "Epoch 42/100\n",
            "\u001b[1m2/2\u001b[0m \u001b[32m━━━━━━━━━━━━━━━━━━━━\u001b[0m\u001b[37m\u001b[0m \u001b[1m0s\u001b[0m 36ms/step - accuracy: 0.6394 - loss: 1.8273\n",
            "Epoch 43/100\n",
            "\u001b[1m2/2\u001b[0m \u001b[32m━━━━━━━━━━━━━━━━━━━━\u001b[0m\u001b[37m\u001b[0m \u001b[1m0s\u001b[0m 35ms/step - accuracy: 0.6442 - loss: 1.7621\n",
            "Epoch 44/100\n",
            "\u001b[1m2/2\u001b[0m \u001b[32m━━━━━━━━━━━━━━━━━━━━\u001b[0m\u001b[37m\u001b[0m \u001b[1m0s\u001b[0m 36ms/step - accuracy: 0.6699 - loss: 1.7368\n",
            "Epoch 45/100\n",
            "\u001b[1m2/2\u001b[0m \u001b[32m━━━━━━━━━━━━━━━━━━━━\u001b[0m\u001b[37m\u001b[0m \u001b[1m0s\u001b[0m 34ms/step - accuracy: 0.7115 - loss: 1.6586\n",
            "Epoch 46/100\n",
            "\u001b[1m2/2\u001b[0m \u001b[32m━━━━━━━━━━━━━━━━━━━━\u001b[0m\u001b[37m\u001b[0m \u001b[1m0s\u001b[0m 34ms/step - accuracy: 0.7035 - loss: 1.5728\n",
            "Epoch 47/100\n",
            "\u001b[1m2/2\u001b[0m \u001b[32m━━━━━━━━━━━━━━━━━━━━\u001b[0m\u001b[37m\u001b[0m \u001b[1m0s\u001b[0m 34ms/step - accuracy: 0.7628 - loss: 1.4954\n",
            "Epoch 48/100\n",
            "\u001b[1m2/2\u001b[0m \u001b[32m━━━━━━━━━━━━━━━━━━━━\u001b[0m\u001b[37m\u001b[0m \u001b[1m0s\u001b[0m 34ms/step - accuracy: 0.8221 - loss: 1.4652\n",
            "Epoch 49/100\n",
            "\u001b[1m2/2\u001b[0m \u001b[32m━━━━━━━━━━━━━━━━━━━━\u001b[0m\u001b[37m\u001b[0m \u001b[1m0s\u001b[0m 34ms/step - accuracy: 0.8558 - loss: 1.3525\n",
            "Epoch 50/100\n",
            "\u001b[1m2/2\u001b[0m \u001b[32m━━━━━━━━━━━━━━━━━━━━\u001b[0m\u001b[37m\u001b[0m \u001b[1m0s\u001b[0m 42ms/step - accuracy: 0.8582 - loss: 1.2934\n",
            "Epoch 51/100\n",
            "\u001b[1m2/2\u001b[0m \u001b[32m━━━━━━━━━━━━━━━━━━━━\u001b[0m\u001b[37m\u001b[0m \u001b[1m0s\u001b[0m 39ms/step - accuracy: 0.8582 - loss: 1.2403\n",
            "Epoch 52/100\n",
            "\u001b[1m2/2\u001b[0m \u001b[32m━━━━━━━━━━━━━━━━━━━━\u001b[0m\u001b[37m\u001b[0m \u001b[1m0s\u001b[0m 34ms/step - accuracy: 0.9151 - loss: 1.1778\n",
            "Epoch 53/100\n",
            "\u001b[1m2/2\u001b[0m \u001b[32m━━━━━━━━━━━━━━━━━━━━\u001b[0m\u001b[37m\u001b[0m \u001b[1m0s\u001b[0m 35ms/step - accuracy: 0.9046 - loss: 1.1154\n",
            "Epoch 54/100\n",
            "\u001b[1m2/2\u001b[0m \u001b[32m━━━━━━━━━━━━━━━━━━━━\u001b[0m\u001b[37m\u001b[0m \u001b[1m0s\u001b[0m 36ms/step - accuracy: 0.9407 - loss: 1.0651\n",
            "Epoch 55/100\n",
            "\u001b[1m2/2\u001b[0m \u001b[32m━━━━━━━━━━━━━━━━━━━━\u001b[0m\u001b[37m\u001b[0m \u001b[1m0s\u001b[0m 36ms/step - accuracy: 0.9303 - loss: 1.0211 \n",
            "Epoch 56/100\n",
            "\u001b[1m2/2\u001b[0m \u001b[32m━━━━━━━━━━━━━━━━━━━━\u001b[0m\u001b[37m\u001b[0m \u001b[1m0s\u001b[0m 35ms/step - accuracy: 0.9303 - loss: 0.9466 \n",
            "Epoch 57/100\n",
            "\u001b[1m2/2\u001b[0m \u001b[32m━━━━━━━━━━━━━━━━━━━━\u001b[0m\u001b[37m\u001b[0m \u001b[1m0s\u001b[0m 36ms/step - accuracy: 0.9639 - loss: 0.8837 \n",
            "Epoch 58/100\n",
            "\u001b[1m2/2\u001b[0m \u001b[32m━━━━━━━━━━━━━━━━━━━━\u001b[0m\u001b[37m\u001b[0m \u001b[1m0s\u001b[0m 34ms/step - accuracy: 0.9639 - loss: 0.8224\n",
            "Epoch 59/100\n",
            "\u001b[1m2/2\u001b[0m \u001b[32m━━━━━━━━━━━━━━━━━━━━\u001b[0m\u001b[37m\u001b[0m \u001b[1m0s\u001b[0m 47ms/step - accuracy: 0.9639 - loss: 0.7896 \n",
            "Epoch 60/100\n",
            "\u001b[1m2/2\u001b[0m \u001b[32m━━━━━━━━━━━━━━━━━━━━\u001b[0m\u001b[37m\u001b[0m \u001b[1m0s\u001b[0m 38ms/step - accuracy: 0.9872 - loss: 0.7278\n",
            "Epoch 61/100\n",
            "\u001b[1m2/2\u001b[0m \u001b[32m━━━━━━━━━━━━━━━━━━━━\u001b[0m\u001b[37m\u001b[0m \u001b[1m0s\u001b[0m 33ms/step - accuracy: 1.0000 - loss: 0.7009\n",
            "Epoch 62/100\n",
            "\u001b[1m2/2\u001b[0m \u001b[32m━━━━━━━━━━━━━━━━━━━━\u001b[0m\u001b[37m\u001b[0m \u001b[1m0s\u001b[0m 34ms/step - accuracy: 1.0000 - loss: 0.6740\n",
            "Epoch 63/100\n",
            "\u001b[1m2/2\u001b[0m \u001b[32m━━━━━━━━━━━━━━━━━━━━\u001b[0m\u001b[37m\u001b[0m \u001b[1m0s\u001b[0m 38ms/step - accuracy: 1.0000 - loss: 0.6281 \n",
            "Epoch 64/100\n",
            "\u001b[1m2/2\u001b[0m \u001b[32m━━━━━━━━━━━━━━━━━━━━\u001b[0m\u001b[37m\u001b[0m \u001b[1m0s\u001b[0m 35ms/step - accuracy: 1.0000 - loss: 0.5868\n",
            "Epoch 65/100\n",
            "\u001b[1m2/2\u001b[0m \u001b[32m━━━━━━━━━━━━━━━━━━━━\u001b[0m\u001b[37m\u001b[0m \u001b[1m0s\u001b[0m 34ms/step - accuracy: 1.0000 - loss: 0.5606\n",
            "Epoch 66/100\n",
            "\u001b[1m2/2\u001b[0m \u001b[32m━━━━━━━━━━━━━━━━━━━━\u001b[0m\u001b[37m\u001b[0m \u001b[1m0s\u001b[0m 34ms/step - accuracy: 1.0000 - loss: 0.5271\n",
            "Epoch 67/100\n",
            "\u001b[1m2/2\u001b[0m \u001b[32m━━━━━━━━━━━━━━━━━━━━\u001b[0m\u001b[37m\u001b[0m \u001b[1m0s\u001b[0m 34ms/step - accuracy: 1.0000 - loss: 0.4856\n",
            "Epoch 68/100\n",
            "\u001b[1m2/2\u001b[0m \u001b[32m━━━━━━━━━━━━━━━━━━━━\u001b[0m\u001b[37m\u001b[0m \u001b[1m0s\u001b[0m 34ms/step - accuracy: 1.0000 - loss: 0.4507\n",
            "Epoch 69/100\n",
            "\u001b[1m2/2\u001b[0m \u001b[32m━━━━━━━━━━━━━━━━━━━━\u001b[0m\u001b[37m\u001b[0m \u001b[1m0s\u001b[0m 35ms/step - accuracy: 1.0000 - loss: 0.4302\n",
            "Epoch 70/100\n",
            "\u001b[1m2/2\u001b[0m \u001b[32m━━━━━━━━━━━━━━━━━━━━\u001b[0m\u001b[37m\u001b[0m \u001b[1m0s\u001b[0m 36ms/step - accuracy: 1.0000 - loss: 0.4023\n",
            "Epoch 71/100\n",
            "\u001b[1m2/2\u001b[0m \u001b[32m━━━━━━━━━━━━━━━━━━━━\u001b[0m\u001b[37m\u001b[0m \u001b[1m0s\u001b[0m 36ms/step - accuracy: 1.0000 - loss: 0.3838\n",
            "Epoch 72/100\n",
            "\u001b[1m2/2\u001b[0m \u001b[32m━━━━━━━━━━━━━━━━━━━━\u001b[0m\u001b[37m\u001b[0m \u001b[1m0s\u001b[0m 38ms/step - accuracy: 1.0000 - loss: 0.3621\n",
            "Epoch 73/100\n",
            "\u001b[1m2/2\u001b[0m \u001b[32m━━━━━━━━━━━━━━━━━━━━\u001b[0m\u001b[37m\u001b[0m \u001b[1m0s\u001b[0m 38ms/step - accuracy: 1.0000 - loss: 0.3414\n",
            "Epoch 74/100\n",
            "\u001b[1m2/2\u001b[0m \u001b[32m━━━━━━━━━━━━━━━━━━━━\u001b[0m\u001b[37m\u001b[0m \u001b[1m0s\u001b[0m 34ms/step - accuracy: 1.0000 - loss: 0.3044\n",
            "Epoch 75/100\n",
            "\u001b[1m2/2\u001b[0m \u001b[32m━━━━━━━━━━━━━━━━━━━━\u001b[0m\u001b[37m\u001b[0m \u001b[1m0s\u001b[0m 37ms/step - accuracy: 1.0000 - loss: 0.2924\n",
            "Epoch 76/100\n",
            "\u001b[1m2/2\u001b[0m \u001b[32m━━━━━━━━━━━━━━━━━━━━\u001b[0m\u001b[37m\u001b[0m \u001b[1m0s\u001b[0m 60ms/step - accuracy: 1.0000 - loss: 0.2808 \n",
            "Epoch 77/100\n",
            "\u001b[1m2/2\u001b[0m \u001b[32m━━━━━━━━━━━━━━━━━━━━\u001b[0m\u001b[37m\u001b[0m \u001b[1m0s\u001b[0m 64ms/step - accuracy: 1.0000 - loss: 0.2785\n",
            "Epoch 78/100\n",
            "\u001b[1m2/2\u001b[0m \u001b[32m━━━━━━━━━━━━━━━━━━━━\u001b[0m\u001b[37m\u001b[0m \u001b[1m0s\u001b[0m 58ms/step - accuracy: 1.0000 - loss: 0.2512\n",
            "Epoch 79/100\n",
            "\u001b[1m2/2\u001b[0m \u001b[32m━━━━━━━━━━━━━━━━━━━━\u001b[0m\u001b[37m\u001b[0m \u001b[1m0s\u001b[0m 55ms/step - accuracy: 1.0000 - loss: 0.2446\n",
            "Epoch 80/100\n",
            "\u001b[1m2/2\u001b[0m \u001b[32m━━━━━━━━━━━━━━━━━━━━\u001b[0m\u001b[37m\u001b[0m \u001b[1m0s\u001b[0m 89ms/step - accuracy: 1.0000 - loss: 0.2244\n",
            "Epoch 81/100\n",
            "\u001b[1m2/2\u001b[0m \u001b[32m━━━━━━━━━━━━━━━━━━━━\u001b[0m\u001b[37m\u001b[0m \u001b[1m0s\u001b[0m 60ms/step - accuracy: 1.0000 - loss: 0.2186 \n",
            "Epoch 82/100\n",
            "\u001b[1m2/2\u001b[0m \u001b[32m━━━━━━━━━━━━━━━━━━━━\u001b[0m\u001b[37m\u001b[0m \u001b[1m0s\u001b[0m 55ms/step - accuracy: 1.0000 - loss: 0.2048\n",
            "Epoch 83/100\n",
            "\u001b[1m2/2\u001b[0m \u001b[32m━━━━━━━━━━━━━━━━━━━━\u001b[0m\u001b[37m\u001b[0m \u001b[1m0s\u001b[0m 57ms/step - accuracy: 1.0000 - loss: 0.1959\n",
            "Epoch 84/100\n",
            "\u001b[1m2/2\u001b[0m \u001b[32m━━━━━━━━━━━━━━━━━━━━\u001b[0m\u001b[37m\u001b[0m \u001b[1m0s\u001b[0m 57ms/step - accuracy: 1.0000 - loss: 0.1895\n",
            "Epoch 85/100\n",
            "\u001b[1m2/2\u001b[0m \u001b[32m━━━━━━━━━━━━━━━━━━━━\u001b[0m\u001b[37m\u001b[0m \u001b[1m0s\u001b[0m 56ms/step - accuracy: 1.0000 - loss: 0.1800\n",
            "Epoch 86/100\n",
            "\u001b[1m2/2\u001b[0m \u001b[32m━━━━━━━━━━━━━━━━━━━━\u001b[0m\u001b[37m\u001b[0m \u001b[1m0s\u001b[0m 59ms/step - accuracy: 1.0000 - loss: 0.1666\n",
            "Epoch 87/100\n",
            "\u001b[1m2/2\u001b[0m \u001b[32m━━━━━━━━━━━━━━━━━━━━\u001b[0m\u001b[37m\u001b[0m \u001b[1m0s\u001b[0m 58ms/step - accuracy: 1.0000 - loss: 0.1587\n",
            "Epoch 88/100\n",
            "\u001b[1m2/2\u001b[0m \u001b[32m━━━━━━━━━━━━━━━━━━━━\u001b[0m\u001b[37m\u001b[0m \u001b[1m0s\u001b[0m 54ms/step - accuracy: 1.0000 - loss: 0.1569\n",
            "Epoch 89/100\n",
            "\u001b[1m2/2\u001b[0m \u001b[32m━━━━━━━━━━━━━━━━━━━━\u001b[0m\u001b[37m\u001b[0m \u001b[1m0s\u001b[0m 58ms/step - accuracy: 1.0000 - loss: 0.1449\n",
            "Epoch 90/100\n",
            "\u001b[1m2/2\u001b[0m \u001b[32m━━━━━━━━━━━━━━━━━━━━\u001b[0m\u001b[37m\u001b[0m \u001b[1m0s\u001b[0m 59ms/step - accuracy: 1.0000 - loss: 0.1380\n",
            "Epoch 91/100\n",
            "\u001b[1m2/2\u001b[0m \u001b[32m━━━━━━━━━━━━━━━━━━━━\u001b[0m\u001b[37m\u001b[0m \u001b[1m0s\u001b[0m 62ms/step - accuracy: 1.0000 - loss: 0.1361\n",
            "Epoch 92/100\n",
            "\u001b[1m2/2\u001b[0m \u001b[32m━━━━━━━━━━━━━━━━━━━━\u001b[0m\u001b[37m\u001b[0m \u001b[1m0s\u001b[0m 60ms/step - accuracy: 1.0000 - loss: 0.1304\n",
            "Epoch 93/100\n",
            "\u001b[1m2/2\u001b[0m \u001b[32m━━━━━━━━━━━━━━━━━━━━\u001b[0m\u001b[37m\u001b[0m \u001b[1m0s\u001b[0m 34ms/step - accuracy: 1.0000 - loss: 0.1242\n",
            "Epoch 94/100\n",
            "\u001b[1m2/2\u001b[0m \u001b[32m━━━━━━━━━━━━━━━━━━━━\u001b[0m\u001b[37m\u001b[0m \u001b[1m0s\u001b[0m 41ms/step - accuracy: 1.0000 - loss: 0.1165\n",
            "Epoch 95/100\n",
            "\u001b[1m2/2\u001b[0m \u001b[32m━━━━━━━━━━━━━━━━━━━━\u001b[0m\u001b[37m\u001b[0m \u001b[1m0s\u001b[0m 36ms/step - accuracy: 1.0000 - loss: 0.1086 \n",
            "Epoch 96/100\n",
            "\u001b[1m2/2\u001b[0m \u001b[32m━━━━━━━━━━━━━━━━━━━━\u001b[0m\u001b[37m\u001b[0m \u001b[1m0s\u001b[0m 36ms/step - accuracy: 1.0000 - loss: 0.1139\n",
            "Epoch 97/100\n",
            "\u001b[1m2/2\u001b[0m \u001b[32m━━━━━━━━━━━━━━━━━━━━\u001b[0m\u001b[37m\u001b[0m \u001b[1m0s\u001b[0m 36ms/step - accuracy: 1.0000 - loss: 0.1072\n",
            "Epoch 98/100\n",
            "\u001b[1m2/2\u001b[0m \u001b[32m━━━━━━━━━━━━━━━━━━━━\u001b[0m\u001b[37m\u001b[0m \u001b[1m0s\u001b[0m 35ms/step - accuracy: 1.0000 - loss: 0.1009 \n",
            "Epoch 99/100\n",
            "\u001b[1m2/2\u001b[0m \u001b[32m━━━━━━━━━━━━━━━━━━━━\u001b[0m\u001b[37m\u001b[0m \u001b[1m0s\u001b[0m 38ms/step - accuracy: 1.0000 - loss: 0.0938\n",
            "Epoch 100/100\n",
            "\u001b[1m2/2\u001b[0m \u001b[32m━━━━━━━━━━━━━━━━━━━━\u001b[0m\u001b[37m\u001b[0m \u001b[1m0s\u001b[0m 36ms/step - accuracy: 1.0000 - loss: 0.0984\n"
          ]
        },
        {
          "output_type": "execute_result",
          "data": {
            "text/plain": [
              "<keras.src.callbacks.history.History at 0x7d2a20c4ce10>"
            ]
          },
          "metadata": {},
          "execution_count": 27
        }
      ]
    },
    {
      "cell_type": "markdown",
      "source": [
        "## Testing the model"
      ],
      "metadata": {
        "id": "JSvLbs63hXiA"
      }
    },
    {
      "cell_type": "code",
      "source": [
        "text_1=\"Data\"\n",
        "\n",
        "token_text=tokenizer.texts_to_sequences([text_1])[0]\n",
        "padded_text=pad_sequences([token_text],maxlen=33,padding='pre')\n",
        "model.predict(padded_text)"
      ],
      "metadata": {
        "colab": {
          "base_uri": "https://localhost:8080/"
        },
        "id": "lbV6sCaLhavB",
        "outputId": "dad8aeb8-f4d7-4b9b-8ed1-990adc78ca40"
      },
      "execution_count": 28,
      "outputs": [
        {
          "output_type": "stream",
          "name": "stdout",
          "text": [
            "\u001b[1m1/1\u001b[0m \u001b[32m━━━━━━━━━━━━━━━━━━━━\u001b[0m\u001b[37m\u001b[0m \u001b[1m0s\u001b[0m 225ms/step\n"
          ]
        },
        {
          "output_type": "execute_result",
          "data": {
            "text/plain": [
              "array([[2.41664065e-06, 3.44378827e-06, 8.14603493e-02, 6.77650645e-02,\n",
              "        8.41101937e-05, 5.07615950e-05, 1.30162891e-06, 4.95365020e-05,\n",
              "        7.62228592e-06, 2.81594880e-03, 8.54184473e-05, 6.08264854e-05,\n",
              "        2.27660785e-05, 7.29703534e-05, 9.15820328e-06, 4.71340772e-03,\n",
              "        3.99293131e-05, 1.29906002e-05, 1.15122275e-05, 2.65440099e-06,\n",
              "        1.57671127e-06, 4.36668472e-07, 1.00046861e-07, 6.72513625e-06,\n",
              "        1.04642203e-02, 4.65449790e-04, 1.44347914e-05, 6.58416320e-06,\n",
              "        1.15320014e-04, 5.86706337e-05, 1.16079982e-05, 4.15315799e-06,\n",
              "        4.56909265e-06, 1.46671350e-03, 9.17626603e-04, 1.42899540e-03,\n",
              "        2.12908912e-04, 2.54814840e-05, 1.10866757e-04, 7.96891584e-07,\n",
              "        1.67374583e-06, 2.12958253e-06, 2.68113909e-05, 8.26106608e-01,\n",
              "        8.54203245e-04, 9.51807669e-06, 3.62708597e-05, 1.79662384e-05,\n",
              "        9.53455674e-06, 6.42772284e-06, 1.17146710e-05, 2.22880681e-05,\n",
              "        5.31128580e-06, 3.84025543e-06, 4.75959405e-06, 9.54538336e-06,\n",
              "        1.46367620e-05, 7.07440768e-06, 4.92781282e-06, 8.39560471e-06,\n",
              "        2.97576071e-06, 1.42294712e-05, 3.93137725e-06, 5.74362002e-06,\n",
              "        6.26880274e-06, 3.62957917e-06, 1.93660926e-05, 1.12681564e-05,\n",
              "        1.26497034e-05, 1.19772858e-05, 1.54018162e-05, 1.16524743e-05,\n",
              "        1.15159610e-05, 9.68412223e-06, 6.19511911e-06, 5.75222066e-06,\n",
              "        1.14826225e-05, 6.58854697e-06, 1.30346798e-05, 1.09416333e-05,\n",
              "        1.26744089e-05, 3.48722801e-06, 9.94971015e-06, 7.30712918e-06,\n",
              "        2.82017049e-06, 3.64524112e-06, 7.27824545e-06, 5.62573177e-06]],\n",
              "      dtype=float32)"
            ]
          },
          "metadata": {},
          "execution_count": 28
        }
      ]
    },
    {
      "cell_type": "code",
      "source": [
        "pos=np.argmax(model.predict(padded_text))"
      ],
      "metadata": {
        "colab": {
          "base_uri": "https://localhost:8080/"
        },
        "id": "LAtDG4VAh11F",
        "outputId": "9ce4a394-8b91-4413-eb0b-a2450baa7fa6"
      },
      "execution_count": 29,
      "outputs": [
        {
          "output_type": "stream",
          "name": "stdout",
          "text": [
            "\u001b[1m1/1\u001b[0m \u001b[32m━━━━━━━━━━━━━━━━━━━━\u001b[0m\u001b[37m\u001b[0m \u001b[1m0s\u001b[0m 47ms/step\n"
          ]
        }
      ]
    },
    {
      "cell_type": "code",
      "source": [
        "tokenizer.word_index"
      ],
      "metadata": {
        "colab": {
          "base_uri": "https://localhost:8080/"
        },
        "id": "I4YbXituiyaD",
        "outputId": "fa4696d2-586c-4e64-c511-ae12c8afd533"
      },
      "execution_count": 30,
      "outputs": [
        {
          "output_type": "execute_result",
          "data": {
            "text/plain": [
              "{'and': 1,\n",
              " 'is': 2,\n",
              " 'the': 3,\n",
              " 'new': 4,\n",
              " 'to': 5,\n",
              " 'make': 6,\n",
              " 'for': 7,\n",
              " 'technology': 8,\n",
              " 'changing': 9,\n",
              " 'way': 10,\n",
              " 'we': 11,\n",
              " 'live': 12,\n",
              " 'work': 13,\n",
              " 'every': 14,\n",
              " 'day': 15,\n",
              " 'devices': 16,\n",
              " 'applications': 17,\n",
              " 'are': 18,\n",
              " 'introduced': 19,\n",
              " 'our': 20,\n",
              " 'lives': 21,\n",
              " 'easier': 22,\n",
              " 'people': 23,\n",
              " 'use': 24,\n",
              " 'smartphones': 25,\n",
              " 'communicate': 26,\n",
              " 'search': 27,\n",
              " 'information': 28,\n",
              " 'complete': 29,\n",
              " 'daily': 30,\n",
              " 'tasks': 31,\n",
              " 'with': 32,\n",
              " 'help': 33,\n",
              " 'of': 34,\n",
              " 'artificial': 35,\n",
              " 'intelligence': 36,\n",
              " 'machines': 37,\n",
              " 'can': 38,\n",
              " 'now': 39,\n",
              " 'learn': 40,\n",
              " 'decisions': 41,\n",
              " 'this': 42,\n",
              " 'transformation': 43,\n",
              " 'creating': 44,\n",
              " 'opportunities': 45,\n",
              " 'challenges': 46,\n",
              " 'society': 47}"
            ]
          },
          "metadata": {},
          "execution_count": 30
        }
      ]
    },
    {
      "cell_type": "code",
      "source": [
        "for word,index in tokenizer.word_index.items():\n",
        "  if index==pos:\n",
        "    print(word)"
      ],
      "metadata": {
        "colab": {
          "base_uri": "https://localhost:8080/"
        },
        "id": "Pg7ILQAtjNW0",
        "outputId": "16efbb17-5795-4555-db3d-8b5a0e024f4e"
      },
      "execution_count": 31,
      "outputs": [
        {
          "output_type": "stream",
          "name": "stdout",
          "text": [
            "transformation\n"
          ]
        }
      ]
    },
    {
      "cell_type": "code",
      "source": [
        "text_2=\"It is\"\n",
        "\n",
        "token_text_2=tokenizer.texts_to_sequences([text_2])[0]\n",
        "padded_text_2=pad_sequences([token_text_2],maxlen=33,padding='pre')\n",
        "model.predict(padded_text_2)\n",
        "\n",
        "pos_2=np.argmax(model.predict(padded_text_2))\n",
        "\n",
        "for word,index in tokenizer.word_index.items():\n",
        "  if index==pos_2:\n",
        "    print(word)"
      ],
      "metadata": {
        "colab": {
          "base_uri": "https://localhost:8080/"
        },
        "id": "WSnG6L7Pjazz",
        "outputId": "05e5ea2f-3161-47d2-a17c-af5b23099d35"
      },
      "execution_count": 34,
      "outputs": [
        {
          "output_type": "stream",
          "name": "stdout",
          "text": [
            "\u001b[1m1/1\u001b[0m \u001b[32m━━━━━━━━━━━━━━━━━━━━\u001b[0m\u001b[37m\u001b[0m \u001b[1m0s\u001b[0m 36ms/step\n",
            "\u001b[1m1/1\u001b[0m \u001b[32m━━━━━━━━━━━━━━━━━━━━\u001b[0m\u001b[37m\u001b[0m \u001b[1m0s\u001b[0m 37ms/step\n",
            "changing\n"
          ]
        }
      ]
    }
  ]
}